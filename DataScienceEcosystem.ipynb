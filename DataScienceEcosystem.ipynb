{
 "cells": [
  {
   "cell_type": "markdown",
   "id": "c6ac8a68-924a-47fc-9b78-b3ab141ead7e",
   "metadata": {
    "tags": []
   },
   "source": [
    "# Data Science Tools and Ecosystem"
   ]
  },
  {
   "cell_type": "markdown",
   "id": "9acba115-b9ed-4875-bf13-26bdc022ccb9",
   "metadata": {},
   "source": [
    "In this notebook, Data Science Tools and Ecosystem are summarized."
   ]
  },
  {
   "cell_type": "markdown",
   "id": "fd688cfd-ba9c-428d-a153-933905544ba7",
   "metadata": {},
   "source": [
    "Some of the popular languages that Data Scientists use are:\n",
    "1. Python\n",
    "2. R \n",
    "3. SQL"
   ]
  },
  {
   "cell_type": "markdown",
   "id": "d1fa0f18-bc4a-4992-9983-a369938e2e0b",
   "metadata": {},
   "source": [
    "Some of the commonly used libraries used by Data Scientists include:\n",
    "1. Pandas\n",
    "2. NumPy\n",
    "3. SciPy"
   ]
  },
  {
   "cell_type": "markdown",
   "id": "102e0e9a-17e5-4031-a328-a5440a2be110",
   "metadata": {},
   "source": [
    "| Data Science Tools |\n",
    "| -------- |\n",
    "| Rstudio |\n",
    "| TensorFlow |\n",
    "| Apache Spark |"
   ]
  },
  {
   "cell_type": "markdown",
   "id": "870beec2-f88b-4d08-bc99-270d983ca3ea",
   "metadata": {},
   "source": [
    "#\n",
    "##\n",
    "### Below are a few examples of evaluating arithmetic expressions in Python"
   ]
  },
  {
   "cell_type": "code",
   "execution_count": 5,
   "id": "2fd61c1f-064f-410e-bd60-f6e89dd87910",
   "metadata": {},
   "outputs": [
    {
     "name": "stdout",
     "output_type": "stream",
     "text": [
      "This a simple arithmetic expression to mutiply then add integers 17\n"
     ]
    }
   ],
   "source": [
    "number = (3*4)+5\n",
    "print (\"This a simple arithmetic expression to mutiply then add integers\",(number))"
   ]
  },
  {
   "cell_type": "code",
   "execution_count": 8,
   "id": "65902fb3-9ac9-42cc-be77-3fe4bd912342",
   "metadata": {},
   "outputs": [
    {
     "name": "stdout",
     "output_type": "stream",
     "text": [
      "This will convert 200 minutes to hours by diving by 60 = 3.3333333333333335 hours\n"
     ]
    }
   ],
   "source": [
    "print (\"This will convert 200 minutes to hours by diving by 60 =\",(number),\"hours\")\n",
    "number = 200/60"
   ]
  },
  {
   "cell_type": "markdown",
   "id": "a235530b-8fe8-4a8f-888f-f345b9c32ae6",
   "metadata": {},
   "source": [
    "**Objectives:**\n",
    "List popular languages for Data Science\n",
    "- R\n",
    "- Python\n",
    "- SQL\n",
    "- Java\n",
    "- Julia"
   ]
  },
  {
   "cell_type": "markdown",
   "id": "bea80dc9-4531-4215-bb18-4d71166d5384",
   "metadata": {},
   "source": [
    "#\n",
    "## Author\n",
    "Edward O Esclamado Jr"
   ]
  }
 ],
 "metadata": {
  "kernelspec": {
   "display_name": "Python",
   "language": "python",
   "name": "conda-env-python-py"
  },
  "language_info": {
   "codemirror_mode": {
    "name": "ipython",
    "version": 3
   },
   "file_extension": ".py",
   "mimetype": "text/x-python",
   "name": "python",
   "nbconvert_exporter": "python",
   "pygments_lexer": "ipython3",
   "version": "3.7.12"
  }
 },
 "nbformat": 4,
 "nbformat_minor": 5
}
